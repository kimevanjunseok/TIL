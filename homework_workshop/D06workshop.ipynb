{
 "cells": [
  {
   "cell_type": "code",
   "execution_count": 9,
   "metadata": {},
   "outputs": [
    {
     "name": "stdout",
     "output_type": "stream",
     "text": [
      "1.4142135605216026\n"
     ]
    }
   ],
   "source": [
    "def func(n):\n",
    "    a = 1\n",
    "    b = n\n",
    "    while True:\n",
    "        if (b**2 - n) < (n - a**2):\n",
    "            a = (a+b)/2\n",
    "            if (n - a**2) < 0.00000001:\n",
    "                return a\n",
    "        elif (b**2 - n) > (n - a**2):\n",
    "            b = (a+b)/2\n",
    "            if (b**2 - n) < 0.00000001:\n",
    "                return b\n",
    "print(func(2))"
   ]
  },
  {
   "cell_type": "code",
   "execution_count": null,
   "metadata": {},
   "outputs": [],
   "source": []
  },
  {
   "cell_type": "code",
   "execution_count": null,
   "metadata": {},
   "outputs": [],
   "source": []
  }
 ],
 "metadata": {
  "kernelspec": {
   "display_name": "Python 3",
   "language": "python",
   "name": "python3"
  },
  "language_info": {
   "codemirror_mode": {
    "name": "ipython",
    "version": 3
   },
   "file_extension": ".py",
   "mimetype": "text/x-python",
   "name": "python",
   "nbconvert_exporter": "python",
   "pygments_lexer": "ipython3",
   "version": "3.6.7"
  }
 },
 "nbformat": 4,
 "nbformat_minor": 2
}
