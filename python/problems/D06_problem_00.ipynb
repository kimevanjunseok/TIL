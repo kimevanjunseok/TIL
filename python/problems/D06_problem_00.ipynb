{
 "cells": [
  {
   "cell_type": "markdown",
   "metadata": {},
   "source": [
    "# 소대소대\n",
    "\n",
    "> 단어의 짝수번째 알파벳은 대문자로, 홀수번째 알파벳은 소문자로 바꾼 문자열을 return 하는 함수 `up_and_low`을 작성하세요.\n",
    "\n",
    "예시)\n",
    "```python\n",
    "up_and_low('applepie') #=> aPpLePiE\n",
    "up_and_low('spaceship') #=> sPaCeShIp\n",
    "```"
   ]
  },
  {
   "cell_type": "code",
   "execution_count": 177,
   "metadata": {},
   "outputs": [],
   "source": [
    "# 여기에 코드를 작성하세요.\n",
    "def up_and_low(word):\n",
    "#     new_str = ''\n",
    "#     for idx, w in enumerate(word):\n",
    "#         if idx % 2:\n",
    "#             new_str += w.upper()\n",
    "#         else:\n",
    "#             new_str += w.lower()\n",
    "#     return new_str\n",
    "\n",
    "    new_str = [w.upper() if idx % 2 else w.lower() for idx, w in enumerate(word)]\n",
    "    return new_str\n",
    "\n",
    "#     S = [word[i].upper() if i % 2 == 1 else word[i].lower() for i in range(len(word))]\n",
    "#     S = ''\n",
    "#     for i in range(len(word)):\n",
    "#         if i % 2 == 1:\n",
    "#             S += word[i].upper()\n",
    "#         else:\n",
    "#             S += word[i].lower()\n",
    "\n",
    "#     return ''.join(S)\n"
   ]
  },
  {
   "cell_type": "code",
   "execution_count": 178,
   "metadata": {},
   "outputs": [
    {
     "name": "stdout",
     "output_type": "stream",
     "text": [
      "['a', 'P', 'p', 'L', 'e', 'P', 'i', 'E']\n",
      "['s', 'P', 'a', 'C', 'e', 'S', 'h', 'I', 'p']\n"
     ]
    }
   ],
   "source": [
    "# 해당 코드를 통해 올바른 결과가 나오는지 확인하세요.\n",
    "print(up_and_low('applepie'))\n",
    "print(up_and_low('spaceship'))"
   ]
  },
  {
   "cell_type": "markdown",
   "metadata": {},
   "source": [
    "# 숫자 패턴\n",
    "\n",
    "> 원하는 행까지 아래의 패턴을 생성하는 함수 `pattern`를 작성하세요. 만약 인자가 0이나 음의 정수인 경우 \"\" 즉, 빈 문자열로 반환하세요. 짝수가 인수로 전달되면 패턴은 통과된 짝수보다 작은 최대 홀수까지 계속되어야 합니다.\n",
    "\n",
    "예시)\n",
    "\n",
    "```python\n",
    "pattern(9)\n",
    "\n",
    "1\n",
    "333\n",
    "55555\n",
    "7777777\n",
    "999999999\n",
    "\n",
    "pattern(6)\n",
    "\n",
    "1\n",
    "333\n",
    "55555\n",
    "```\n",
    "\n",
    "주의)\n",
    "\n",
    "- 패턴에 공백은 없습니다.\n",
    "- 함수 내부에서 `print()`를 사용하는 것이 아니라, 하나의 문자열을 `return`하여서 출력하여야 합니다."
   ]
  },
  {
   "cell_type": "code",
   "execution_count": 196,
   "metadata": {},
   "outputs": [],
   "source": [
    "# 여기에 코드를 작성하세요.\n",
    "def pattern(n):\n",
    "#     string = ''\n",
    "#     a = n\n",
    "#     if a% 2 == 0:\n",
    "#         a -= 1\n",
    "#     for x in range(1, a+1):\n",
    "#         if x % 2 != 0:\n",
    "#             string += str(x) * x\n",
    "#             if x != a:\n",
    "#                 string += '\\n'\n",
    "#     return string\n",
    "    \n",
    "    r = [str(x)*x for x in range(1, n+1) if x%2]\n",
    "    return '\\n'.join(r)\n",
    "    \n",
    "#     S = [f'{i}'*i + '\\n' for i in range(1, n+1) if i % 2 == 1]\n",
    "#     S = ''\n",
    "#     for i in range(1, n+1):\n",
    "#         if i % 2 == 1:\n",
    "#             S += f'{i}'*i + '\\n'\n",
    "\n",
    "#     return S"
   ]
  },
  {
   "cell_type": "code",
   "execution_count": 197,
   "metadata": {},
   "outputs": [
    {
     "name": "stdout",
     "output_type": "stream",
     "text": [
      "1\n",
      "333\n",
      "55555\n",
      "7777777\n",
      "\n",
      "1\n",
      "333\n",
      "55555\n"
     ]
    }
   ],
   "source": [
    "# 해당 코드를 통해 올바른 결과가 나오는지 확인하세요.\n",
    "print(pattern(7))\n",
    "print(pattern(-2))\n",
    "print(pattern(6))"
   ]
  },
  {
   "cell_type": "markdown",
   "metadata": {},
   "source": [
    "# 무엇이 중복일까\n",
    "\n",
    "> 중복된 요소만 뽑아서 출력하는 `duplicated` 함수를 작성하시오.\n",
    "\n",
    "예시)\n",
    "\n",
    "```python\n",
    "duplicated(['a', 'b', 'c', 'b', 'd', 'm', 'n', 'n', 'b']) #=> ['b', 'n']\n",
    "```"
   ]
  },
  {
   "cell_type": "code",
   "execution_count": 255,
   "metadata": {},
   "outputs": [],
   "source": [
    "# 여기에 코드를 작성하세요.\n",
    "def duplicated(some_list):\n",
    "    return list({c for c in some_list if some_list.count(c) > 1})\n",
    "#     L = [i for i in some_list if (some_list.count(i) > 1)]\n",
    "#     L = []\n",
    "#     for i in some_list:\n",
    "#         if (some_list.count(i) > 1) and (i not in L):\n",
    "#             L.append(i)   \n",
    "#     return L"
   ]
  },
  {
   "cell_type": "code",
   "execution_count": 256,
   "metadata": {},
   "outputs": [
    {
     "name": "stdout",
     "output_type": "stream",
     "text": [
      "['n', 'b']\n"
     ]
    }
   ],
   "source": [
    "# 해당 코드를 통해 올바른 결과가 나오는지 확인하세요.\n",
    "print(duplicated(['a', 'b', 'c', 'b', 'd', 'm', 'n', 'n', 'b']))"
   ]
  },
  {
   "cell_type": "code",
   "execution_count": null,
   "metadata": {},
   "outputs": [],
   "source": []
  },
  {
   "cell_type": "code",
   "execution_count": null,
   "metadata": {},
   "outputs": [],
   "source": []
  }
 ],
 "metadata": {
  "kernelspec": {
   "display_name": "Python 3",
   "language": "python",
   "name": "python3"
  },
  "language_info": {
   "codemirror_mode": {
    "name": "ipython",
    "version": 3
   },
   "file_extension": ".py",
   "mimetype": "text/x-python",
   "name": "python",
   "nbconvert_exporter": "python",
   "pygments_lexer": "ipython3",
   "version": "3.6.7"
  },
  "toc": {
   "base_numbering": 1,
   "nav_menu": {},
   "number_sections": true,
   "sideBar": true,
   "skip_h1_title": false,
   "title_cell": "Table of Contents",
   "title_sidebar": "Contents",
   "toc_cell": false,
   "toc_position": {},
   "toc_section_display": true,
   "toc_window_display": false
  }
 },
 "nbformat": 4,
 "nbformat_minor": 2
}
