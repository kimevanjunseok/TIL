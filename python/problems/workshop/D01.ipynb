{
 "cells": [
  {
   "cell_type": "markdown",
   "metadata": {},
   "source": [
    "## D01 WORKSHOP"
   ]
  },
  {
   "cell_type": "markdown",
   "metadata": {},
   "source": [
    "**문제 0**\n",
    "- 1월부터 12월까지 다음과 같은 형태로 달력이 출력되도록 코드를 작성하세요.\n",
    "```bash\n",
    "1 월\n",
    "일 월 화 수 목 금 토\n",
    "1 2 3 4 5 6 7\n",
    "8 9 10 11 12 13 14\n",
    "15 16 17 18 19 20 21\n",
    "22 23 24 25 26 27 28\n",
    "29 30 31\n",
    "2 월\n",
    "일 월 화 수 목 금 토\n",
    "1 2 3 4 5 6 7\n",
    "8 9 10 11 12 13 14\n",
    "15 16 17 18 19 20 21\n",
    "22 23 24 25 26 27 28\n",
    "```"
   ]
  },
  {
   "cell_type": "code",
   "execution_count": 80,
   "metadata": {},
   "outputs": [
    {
     "name": "stdout",
     "output_type": "stream",
     "text": [
      "1월\n",
      "일 월 화 수 목 금 토\n",
      "1 2 3 4 5 6 7 \n",
      "8 9 10 11 12 13 14 \n",
      "15 16 17 18 19 20 21 \n",
      "22 23 24 25 26 27 28 \n",
      "29 30 31 \n",
      "2월\n",
      "일 월 화 수 목 금 토\n",
      "1 2 3 4 5 6 7 \n",
      "8 9 10 11 12 13 14 \n",
      "15 16 17 18 19 20 21 \n",
      "22 23 24 25 26 27 28 \n",
      "\n",
      "3월\n",
      "일 월 화 수 목 금 토\n",
      "1 2 3 4 5 6 7 \n",
      "8 9 10 11 12 13 14 \n",
      "15 16 17 18 19 20 21 \n",
      "22 23 24 25 26 27 28 \n",
      "29 30 31 \n",
      "4월\n",
      "일 월 화 수 목 금 토\n",
      "1 2 3 4 5 6 7 \n",
      "8 9 10 11 12 13 14 \n",
      "15 16 17 18 19 20 21 \n",
      "22 23 24 25 26 27 28 \n",
      "29 30 \n",
      "5월\n",
      "일 월 화 수 목 금 토\n",
      "1 2 3 4 5 6 7 \n",
      "8 9 10 11 12 13 14 \n",
      "15 16 17 18 19 20 21 \n",
      "22 23 24 25 26 27 28 \n",
      "29 30 31 \n",
      "6월\n",
      "일 월 화 수 목 금 토\n",
      "1 2 3 4 5 6 7 \n",
      "8 9 10 11 12 13 14 \n",
      "15 16 17 18 19 20 21 \n",
      "22 23 24 25 26 27 28 \n",
      "29 30 \n",
      "7월\n",
      "일 월 화 수 목 금 토\n",
      "1 2 3 4 5 6 7 \n",
      "8 9 10 11 12 13 14 \n",
      "15 16 17 18 19 20 21 \n",
      "22 23 24 25 26 27 28 \n",
      "29 30 31 \n",
      "8월\n",
      "일 월 화 수 목 금 토\n",
      "1 2 3 4 5 6 7 \n",
      "8 9 10 11 12 13 14 \n",
      "15 16 17 18 19 20 21 \n",
      "22 23 24 25 26 27 28 \n",
      "29 30 31 \n",
      "9월\n",
      "일 월 화 수 목 금 토\n",
      "1 2 3 4 5 6 7 \n",
      "8 9 10 11 12 13 14 \n",
      "15 16 17 18 19 20 21 \n",
      "22 23 24 25 26 27 28 \n",
      "29 30 \n",
      "10월\n",
      "일 월 화 수 목 금 토\n",
      "1 2 3 4 5 6 7 \n",
      "8 9 10 11 12 13 14 \n",
      "15 16 17 18 19 20 21 \n",
      "22 23 24 25 26 27 28 \n",
      "29 30 31 \n",
      "11월\n",
      "일 월 화 수 목 금 토\n",
      "1 2 3 4 5 6 7 \n",
      "8 9 10 11 12 13 14 \n",
      "15 16 17 18 19 20 21 \n",
      "22 23 24 25 26 27 28 \n",
      "29 30 \n",
      "12월\n",
      "일 월 화 수 목 금 토\n",
      "1 2 3 4 5 6 7 \n",
      "8 9 10 11 12 13 14 \n",
      "15 16 17 18 19 20 21 \n",
      "22 23 24 25 26 27 28 \n",
      "29 30 31 \n"
     ]
    }
   ],
   "source": [
    "# 정답\n",
    "days = [31, 28, 31, 30, 31, 30, 31, 31, 30, 31, 30, 31]\n",
    "for i in range(1, 13):\n",
    "    print(f'{i}월\\n일 월 화 수 목 금 토')\n",
    "    for j in range(1, days[i-1]+1):\n",
    "        print(j, end = ' ')\n",
    "        if j % 7 == 0:\n",
    "            print()\n",
    "    print()"
   ]
  },
  {
   "cell_type": "markdown",
   "metadata": {},
   "source": [
    "**문제 1**\n",
    "- 두 개의 정수 n과 m이 주어집니다. 반복문을 사용하지 않고 별(*) 문자를 이용해 가로의 길이가 n, 세로의 길이가 m인 직사각형 형태를 출력해보세요."
   ]
  },
  {
   "cell_type": "code",
   "execution_count": null,
   "metadata": {},
   "outputs": [],
   "source": [
    "# 문제\n",
    "n = 5\n",
    "m = 9"
   ]
  },
  {
   "cell_type": "code",
   "execution_count": 82,
   "metadata": {},
   "outputs": [
    {
     "name": "stdout",
     "output_type": "stream",
     "text": [
      "*****\n",
      "*****\n",
      "*****\n",
      "*****\n",
      "*****\n",
      "\n"
     ]
    }
   ],
   "source": [
    "# 정답\n",
    "n = 5\n",
    "# m = 9\n",
    "# a = \" * \"*n\n",
    "# b = f'{a}\\n'*m\n",
    "# print(b)\n",
    "\n",
    "print((\"*\" * 5 + \"\\n\")*5)"
   ]
  },
  {
   "cell_type": "markdown",
   "metadata": {},
   "source": [
    "**문제2**\n",
    "- 다음 딕셔너리에서 평균 점수를 출력하시오."
   ]
  },
  {
   "cell_type": "code",
   "execution_count": 83,
   "metadata": {},
   "outputs": [],
   "source": [
    "# 문제\n",
    "student = {'python': 80, 'algorithm': 99, 'django': 89, 'flask': 83}"
   ]
  },
  {
   "cell_type": "code",
   "execution_count": 85,
   "metadata": {},
   "outputs": [
    {
     "name": "stdout",
     "output_type": "stream",
     "text": [
      "87.75\n"
     ]
    }
   ],
   "source": [
    "# 정답\n",
    "# student = {'python': 80, 'algorithm': 99, 'django': 89, 'flask': 83}\n",
    "# score = list(student.values())\n",
    "# total = 0\n",
    "# long = len(score)\n",
    "# for i in range(long):\n",
    "#     total += score[i]\n",
    "# print(total / long)\n",
    "\n",
    "averge = sum(student.values()) / len(student)\n",
    "print(averge)"
   ]
  },
  {
   "cell_type": "markdown",
   "metadata": {},
   "source": [
    "**문제3**\n",
    "- 다음은 학생들의 혈액형(A, B, AB, O)에 대한 데이터이다. for문을 이용하여 각 혈액형 별 학생수의 합계를 구하시오."
   ]
  },
  {
   "cell_type": "code",
   "execution_count": null,
   "metadata": {},
   "outputs": [],
   "source": [
    "# 문제\n",
    "blood_types = ['A', 'B', 'A', 'O', 'AB', 'AB', 'O', 'A', 'B', 'O', 'B', 'AB']"
   ]
  },
  {
   "cell_type": "code",
   "execution_count": 87,
   "metadata": {},
   "outputs": [
    {
     "name": "stdout",
     "output_type": "stream",
     "text": [
      "{'A': 3, 'B': 3, 'O': 3, 'AB': 3}\n"
     ]
    }
   ],
   "source": [
    "# 정답\n",
    "blood_types = ['A', 'B', 'A', 'O', 'AB', 'AB', 'O', 'A', 'B', 'O', 'B', 'AB']\n",
    "# count_A = 0\n",
    "# count_B = 0\n",
    "# count_O = 0\n",
    "# count_AB = 0\n",
    "# for i in range(len(blood_types)):\n",
    "#     if blood_types[i] == 'A':\n",
    "#         count_A += 1\n",
    "#     elif blood_types[i] == 'B':\n",
    "#         count_B += 1\n",
    "#     elif blood_types[i] == 'O':\n",
    "#         count_O += 1\n",
    "#     else:\n",
    "#         count_AB += 1\n",
    "# print(f'A형 :{count_A}\\nB형 :{count_B}\\nO형 :{count_O}\\nAB형 :{count_AB}')\n",
    "result = {}\n",
    "for blood_type in blood_types:\n",
    "    if blood_type in result:\n",
    "        result[blood_type] +=1\n",
    "    else:\n",
    "        result[blood_type] = 1\n",
    "print(result)"
   ]
  },
  {
   "cell_type": "code",
   "execution_count": null,
   "metadata": {},
   "outputs": [],
   "source": []
  }
 ],
 "metadata": {
  "kernelspec": {
   "display_name": "Python 3",
   "language": "python",
   "name": "python3"
  },
  "language_info": {
   "codemirror_mode": {
    "name": "ipython",
    "version": 3
   },
   "file_extension": ".py",
   "mimetype": "text/x-python",
   "name": "python",
   "nbconvert_exporter": "python",
   "pygments_lexer": "ipython3",
   "version": "3.6.7"
  },
  "toc": {
   "base_numbering": 1,
   "nav_menu": {},
   "number_sections": true,
   "sideBar": true,
   "skip_h1_title": false,
   "title_cell": "Table of Contents",
   "title_sidebar": "Contents",
   "toc_cell": false,
   "toc_position": {},
   "toc_section_display": true,
   "toc_window_display": false
  }
 },
 "nbformat": 4,
 "nbformat_minor": 2
}
